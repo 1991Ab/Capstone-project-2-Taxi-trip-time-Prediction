{
  "nbformat": 4,
  "nbformat_minor": 0,
  "metadata": {
    "colab": {
      "provenance": [],
      "authorship_tag": "ABX9TyNn0dkW66A0lVF65+TnJk6p",
      "include_colab_link": true
    },
    "kernelspec": {
      "name": "python3",
      "display_name": "Python 3"
    },
    "language_info": {
      "name": "python"
    }
  },
  "cells": [
    {
      "cell_type": "markdown",
      "metadata": {
        "id": "view-in-github",
        "colab_type": "text"
      },
      "source": [
        "<a href=\"https://colab.research.google.com/github/1991Ab/Capstone-project-2-Taxi-trip-time-Prediction/blob/main/Taxi_trip_time_Prediction_individual_notebook.ipynb\" target=\"_parent\"><img src=\"https://colab.research.google.com/assets/colab-badge.svg\" alt=\"Open In Colab\"/></a>"
      ]
    },
    {
      "cell_type": "code",
      "source": [
        "a= input()\n",
        "b= input()\n",
        "print(a)\n",
        "print(b)"
      ],
      "metadata": {
        "id": "PCIR1YG8oP9K"
      },
      "execution_count": null,
      "outputs": []
    },
    {
      "cell_type": "markdown",
      "source": [
        "# **Project Name**    -  NYC Taxi Trip Time Prediction\n",
        "\n"
      ],
      "metadata": {
        "id": "ILM16xV1PD8m"
      }
    },
    {
      "cell_type": "markdown",
      "source": [
        "##### **Project Type**    - Regression\n",
        "##### **Contribution**    - Individual\n"
      ],
      "metadata": {
        "id": "bqVZBxrvPD8n"
      }
    },
    {
      "cell_type": "markdown",
      "source": [
        "# **Problem Statement**\n"
      ],
      "metadata": {
        "id": "yQaldy8SH6Dl"
      }
    },
    {
      "cell_type": "markdown",
      "source": [
        "**BUSINESS PROBLEM OVERVIEW**\n",
        "\n",
        "\n",
        "Your task is to build a model that predicts the total ride duration of taxi trips in New York City. Your primary dataset is one released by the NYC Taxi and Limousine Commission, which includes pickup time, geo-coordinates, number of passengers, and several other variables."
      ],
      "metadata": {
        "id": "jivUA-ONOwse"
      }
    },
    {
      "cell_type": "markdown",
      "source": [
        "1.   Well-structured, formatted, and commented code is required. \n",
        "2.   Exception Handling, Production Grade Code & Deployment Ready Code will be a plus. Those students will be awarded some additional credits. \n",
        "     \n",
        "     The additional credits will have advantages over other students during Star Student selection.\n",
        "       \n",
        "             [ Note: - Deployment Ready Code is defined as, the whole .ipynb notebook should be executable in one go\n",
        "                       without a single error logged. ]\n",
        "\n",
        "3.   Each and every logic should have proper comments.\n",
        "4. You may add as many number of charts you want. Make Sure for each and every chart the following format should be answered.\n",
        "        \n",
        "\n",
        "```\n",
        "# Chart visualization code\n",
        "```\n",
        "            \n",
        "\n",
        "*   Why did you pick the specific chart?\n",
        "*   What is/are the insight(s) found from the chart?\n",
        "* Will the gained insights help creating a positive business impact? \n",
        "Are there any insights that lead to negative growth? Justify with specific reason.\n",
        "\n",
        "5. You have to create at least 15 logical & meaningful charts having important insights.\n",
        "\n",
        "\n",
        "[ Hints : - Do the Vizualization in  a structured way while following \"UBM\" Rule. \n",
        "\n",
        "U - Univariate Analysis,\n",
        "\n",
        "B - Bivariate Analysis (Numerical - Categorical, Numerical - Numerical, Categorical - Categorical)\n",
        "\n",
        "M - Multivariate Analysis\n",
        " ]\n",
        "\n",
        "\n",
        "\n",
        "\n",
        "\n",
        "6. You may add more ml algorithms for model creation. Make sure for each and every algorithm, the following format should be answered.\n",
        "\n",
        "\n",
        "*   Explain the ML Model used and it's performance using Evaluation metric Score Chart.\n",
        "\n",
        "\n",
        "*   Cross- Validation & Hyperparameter Tuning\n",
        "\n",
        "*   Have you seen any improvement? Note down the improvement with updates Evaluation metric Score Chart.\n",
        "\n",
        "*   Explain each evaluation metric's indication towards business and the business impact pf the ML model used.\n",
        "\n",
        "\n",
        "\n",
        "\n",
        "\n",
        "\n",
        "\n",
        "\n",
        "\n",
        "\n",
        "\n",
        "\n",
        "\n",
        "\n",
        "\n",
        "\n",
        "\n",
        "\n"
      ],
      "metadata": {
        "id": "ZrxVaUj-hHfC"
      }
    },
    {
      "cell_type": "markdown",
      "source": [
        "# ***Let's Begin !***"
      ],
      "metadata": {
        "id": "O_i_v8NEhb9l"
      }
    },
    {
      "cell_type": "markdown",
      "source": [
        "## ***1. Know Your Data***"
      ],
      "metadata": {
        "id": "HhfV-JJviCcP"
      }
    },
    {
      "cell_type": "markdown",
      "source": [
        "### Import Libraries"
      ],
      "metadata": {
        "id": "Y3lxredqlCYt"
      }
    },
    {
      "cell_type": "code",
      "source": [
        "# Import Libraries\n",
        "import numpy as np\n",
        "import pandas as pd\n",
        "from numpy import math\n",
        "from numpy import loadtxt\n",
        "import seaborn as sns\n",
        "import matplotlib.pyplot as plt\n",
        "%matplotlib inline\n",
        "from matplotlib import rcParams\n",
        "!pip install pymysql\n",
        "import pymysql\n",
        "from sqlalchemy import create_engine\n",
        "from sqlalchemy.pool import NullPool\n",
        "\n",
        "import numpy as np\n",
        "import seaborn as sns\n",
        "from scipy.stats import *\n",
        "import math\n",
        "\n",
        "from statsmodels.stats.outliers_influence import variance_inflation_factor\n",
        "from sklearn.preprocessing import StandardScaler\n",
        "from sklearn.model_selection import train_test_split\n",
        "from imblearn.over_sampling import SMOTE\n",
        "from sklearn.linear_model import LogisticRegression\n",
        "from sklearn.ensemble import RandomForestClassifier\n",
        "from sklearn.metrics import accuracy_score, confusion_matrix\n",
        "from sklearn import metrics\n",
        "from sklearn.metrics import roc_curve\n",
        "from sklearn.model_selection import GridSearchCV\n",
        "from sklearn.model_selection import RepeatedStratifiedKFold\n",
        "from xgboost import XGBClassifier\n",
        "from xgboost import XGBRFClassifier\n",
        "from sklearn.tree import export_graphviz\n",
        "\n",
        "!pip install shap==0.40.0\n",
        "import shap \n",
        "import graphviz\n",
        "sns.set_style('darkgrid') \n",
        "\n",
        "import warnings\n",
        "warnings.filterwarnings('ignore')"
      ],
      "metadata": {
        "id": "M8Vqi-pPk-HR"
      },
      "execution_count": null,
      "outputs": []
    },
    {
      "cell_type": "markdown",
      "source": [
        "### Dataset Loading"
      ],
      "metadata": {
        "id": "3RnN4peoiCZX"
      }
    },
    {
      "cell_type": "code",
      "source": [
        "# Load Dataset\n",
        "# Mounting the Google Drive\n",
        "from google.colab import drive\n",
        "drive.mount('/content/drive')\n"
      ],
      "metadata": {
        "id": "4CkvbW_SlZ_R"
      },
      "execution_count": null,
      "outputs": []
    },
    {
      "cell_type": "code",
      "source": [
        "# Importing the dataset\n",
        "file_path = \"/content/drive/MyDrive/Capstone project-2/NYC Taxi Data (1).csv\"\n",
        "df = pd.read_csv(file_path)\n"
      ],
      "metadata": {
        "id": "CEhiayUv1809"
      },
      "execution_count": null,
      "outputs": []
    },
    {
      "cell_type": "markdown",
      "source": [
        "### Dataset First View"
      ],
      "metadata": {
        "id": "x71ZqKXriCWQ"
      }
    },
    {
      "cell_type": "code",
      "source": [
        "# Dataset First \n",
        "df.head()"
      ],
      "metadata": {
        "id": "LWNFOSvLl09H"
      },
      "execution_count": null,
      "outputs": []
    },
    {
      "cell_type": "markdown",
      "source": [
        "### Dataset Rows & Columns count"
      ],
      "metadata": {
        "id": "7hBIi_osiCS2"
      }
    },
    {
      "cell_type": "code",
      "source": [
        "# Dataset Rows & Columns \n",
        "df.shape"
      ],
      "metadata": {
        "id": "Kllu7SJgmLij"
      },
      "execution_count": null,
      "outputs": []
    },
    {
      "cell_type": "markdown",
      "source": [
        "We can see that the NYC taxi trip time prediction data set contains 1458644 rows and 11 columns"
      ],
      "metadata": {
        "id": "2_V23HLH08TZ"
      }
    },
    {
      "cell_type": "markdown",
      "source": [
        "### Dataset Information"
      ],
      "metadata": {
        "id": "JlHwYmJAmNHm"
      }
    },
    {
      "cell_type": "code",
      "source": [
        "# Dataset Info\n",
        "df.info()"
      ],
      "metadata": {
        "id": "e9hRXRi6meOf"
      },
      "execution_count": null,
      "outputs": []
    },
    {
      "cell_type": "markdown",
      "source": [
        "Here we see the details of each column present in the dataset such as  their data type and count of values "
      ],
      "metadata": {
        "id": "9pA4lAiE1Y0-"
      }
    },
    {
      "cell_type": "markdown",
      "source": [
        "#### Duplicate Values"
      ],
      "metadata": {
        "id": "35m5QtbWiB9F"
      }
    },
    {
      "cell_type": "code",
      "source": [
        "# Dataset Duplicate Value Count\n",
        "len(df[df.duplicated()])"
      ],
      "metadata": {
        "id": "1sLdpKYkmox0"
      },
      "execution_count": null,
      "outputs": []
    },
    {
      "cell_type": "markdown",
      "source": [
        "It is very essential to check if our data set has any duplicate values and remove them if any.We can find out the duplicate values using the function dataset.duplicated().  len(dataset[dataset.duplicated()]) gives the count of duplicate values.From the above code we can see that there are no duplicate values in the dataset."
      ],
      "metadata": {
        "id": "MC6iLaZH3tE3"
      }
    },
    {
      "cell_type": "markdown",
      "source": [
        "#### Missing Values/Null Values"
      ],
      "metadata": {
        "id": "PoPl-ycgm1ru"
      }
    },
    {
      "cell_type": "code",
      "source": [
        "# Missing Values/Null Values Count\n",
        "print(df.isnull().sum())"
      ],
      "metadata": {
        "id": "GgHWkxvamxVg"
      },
      "execution_count": null,
      "outputs": []
    },
    {
      "cell_type": "code",
      "source": [
        "# Visualizing the missing values\n",
        "# Checking Null Value by plotting Heatmap\n",
        "sns.heatmap(df.isnull(), cbar=True)"
      ],
      "metadata": {
        "id": "3q5wnI3om9sJ"
      },
      "execution_count": null,
      "outputs": []
    },
    {
      "cell_type": "markdown",
      "source": [
        "It is very important to check for missing values or NAN values as it has a very high impact on the model.Hence identifying the NAN values and treating them becomes very important.From the above data and graph we can see that the dataset has no missing or NAN values."
      ],
      "metadata": {
        "id": "LWEeYISd5d5x"
      }
    },
    {
      "cell_type": "markdown",
      "source": [
        "### What did you know about your dataset?"
      ],
      "metadata": {
        "id": "H0kj-8xxnORC"
      }
    },
    {
      "cell_type": "markdown",
      "source": [
        "The dataset given is based on the  NYC Yellow Cab trip record data.We have to predict the taxi trip duration of various rides using various Machine Learning models.The data set has 'trip_duration' as a continous target variable and many independent variables like 'passenger_count' , 'pickup_datetime' , 'dropoff_datetime' etc.The  dataset has 1458644 rows and 11 columns.It has no NAN values and duplicate values."
      ],
      "metadata": {
        "id": "gfoNAAC-nUe_"
      }
    },
    {
      "cell_type": "markdown",
      "source": [
        "## ***2. Understanding Your Variables***"
      ],
      "metadata": {
        "id": "nA9Y7ga8ng1Z"
      }
    },
    {
      "cell_type": "code",
      "source": [
        "# Dataset Columns\n",
        "df.columns"
      ],
      "metadata": {
        "id": "n87BaXA_42-R"
      },
      "execution_count": null,
      "outputs": []
    },
    {
      "cell_type": "code",
      "source": [
        "# Dataset Describe\n",
        "df.describe(include='all')"
      ],
      "metadata": {
        "id": "DnOaZdaE5Q5t"
      },
      "execution_count": null,
      "outputs": []
    },
    {
      "cell_type": "markdown",
      "source": [
        "### Variables Description "
      ],
      "metadata": {
        "id": "PBTbrJXOngz2"
      }
    },
    {
      "cell_type": "markdown",
      "source": [
        "The following are the variables used in dataset"
      ],
      "metadata": {
        "id": "z4ksAAsB-fCh"
      }
    },
    {
      "cell_type": "markdown",
      "source": [
        "* #### id - a unique identifier for each trip\n",
        "* #### vendor_id - a code indicating the provider associated with the trip record\n",
        "* #### pickup_datetime - date and time when the meter was engaged\n",
        "* #### dropoff_datetime - date and time when the meter was disengaged\n",
        "* #### passenger_count - the number of passengers in the vehicle (driver entered value)\n",
        "* #### pickup_longitude - the longitude where the meter was engaged\n",
        "* #### pickup_latitude - the latitude where the meter was engaged\n",
        "* #### dropoff_longitude - the longitude where the meter was disengaged\n",
        "* #### dropoff_latitude - the latitude where the meter was disengaged\n",
        "* #### store_and_fwd_flag - This flag indicates whether the trip record was held in vehicle memory before sending to the vendor because the vehicle did not have a connection to the server - Y=store and forward; N=not a store and forward trip\n",
        "* #### trip_duration - duration of the trip in seconds"
      ],
      "metadata": {
        "id": "aJV4KIxSnxay"
      }
    },
    {
      "cell_type": "markdown",
      "source": [
        "### Check Unique Values for each variable."
      ],
      "metadata": {
        "id": "u3PMJOP6ngxN"
      }
    },
    {
      "cell_type": "code",
      "source": [
        "# Check Unique Values for each variable.\n",
        "for i in df.columns.tolist():\n",
        "  print(\"No. of unique values in \",i,\"is\",df[i].nunique(),\".\")\n",
        "#df.nunique()"
      ],
      "metadata": {
        "id": "zms12Yq5n-jE"
      },
      "execution_count": null,
      "outputs": []
    },
    {
      "cell_type": "markdown",
      "source": [
        "## 3. ***Data Wrangling***"
      ],
      "metadata": {
        "id": "dauF4eBmngu3"
      }
    },
    {
      "cell_type": "markdown",
      "source": [
        "### Data Wrangling Code"
      ],
      "metadata": {
        "id": "bKJF3rekwFvQ"
      }
    },
    {
      "cell_type": "code",
      "source": [
        "# Write your code to make your dataset analysis ready.\n",
        "# Create a copy of the current dataset and assigning to df\n",
        "new_df=df.copy()\n",
        "# Checking Shape of True Value\n",
        "new_df.shape\n"
      ],
      "metadata": {
        "id": "wk-9a2fpoLcV"
      },
      "execution_count": null,
      "outputs": []
    },
    {
      "cell_type": "code",
      "source": [
        "#calculating the distance between pickup and dropoff locations using haversine formula"
      ],
      "metadata": {
        "id": "PaPWuHPHbnEw"
      },
      "execution_count": null,
      "outputs": []
    },
    {
      "cell_type": "code",
      "source": [
        "!pip  install haversine\n",
        "from numpy import math\n",
        "from haversine import haversine\n",
        "def trip_distance(df) :\n",
        "  trip_pickup=(df['pickup_latitude'], df['pickup_longitude'])\n",
        "  trip_dropoff=(df['dropoff_latitude'], df['dropoff_longitude'])\n",
        "  return haversine(trip_pickup , trip_dropoff)"
      ],
      "metadata": {
        "id": "NrK899PLgN2o"
      },
      "execution_count": null,
      "outputs": []
    },
    {
      "cell_type": "code",
      "source": [
        "#calculating the distance and creating a new column \"distance\" in the dataset\n",
        "df['distance']=df.apply(lambda x:trip_distance(x) , axis=1)"
      ],
      "metadata": {
        "id": "-d-_JWvIbpZn"
      },
      "execution_count": null,
      "outputs": []
    },
    {
      "cell_type": "code",
      "source": [
        "df['distance'].reset_index\n"
      ],
      "metadata": {
        "id": "4xoF-yzBbpb9"
      },
      "execution_count": null,
      "outputs": []
    },
    {
      "cell_type": "code",
      "source": [
        "df"
      ],
      "metadata": {
        "id": "t9qYRB4PbpWx"
      },
      "execution_count": null,
      "outputs": []
    },
    {
      "cell_type": "markdown",
      "source": [
        "Calculating the customer with highest trip distance\n"
      ],
      "metadata": {
        "id": "uu3RSwCGyTvj"
      }
    },
    {
      "cell_type": "code",
      "source": [
        "max_distance=df.groupby('id')['distance'].max().reset_index().sort_values(by='distance' , ascending=False)"
      ],
      "metadata": {
        "id": "c7oc-9h4bpUb"
      },
      "execution_count": null,
      "outputs": []
    },
    {
      "cell_type": "code",
      "source": [
        "max_distance"
      ],
      "metadata": {
        "id": "gxvSzSDJz1aK"
      },
      "execution_count": null,
      "outputs": []
    },
    {
      "cell_type": "code",
      "source": [
        "#Graphical Representation\n",
        "sns.set_style('whitegrid')\n",
        "plt.rcParams['font.size'] = 10\n",
        "plt.rcParams['figure.figsize'] = (14,5)\n",
        "sns.barplot(x='id' , y='distance' ,  data=max_distance.head(10))"
      ],
      "metadata": {
        "id": "6-4SizNz0MSK"
      },
      "execution_count": null,
      "outputs": []
    },
    {
      "cell_type": "markdown",
      "source": [
        "We can see from the above plot that customer id'id2306955' has the highest distance for trip "
      ],
      "metadata": {
        "id": "teEwHeda1ceY"
      }
    },
    {
      "cell_type": "code",
      "source": [
        "df.dtypes"
      ],
      "metadata": {
        "id": "hFIpRvSJ5ZRq"
      },
      "execution_count": null,
      "outputs": []
    },
    {
      "cell_type": "code",
      "source": [
        "#Changing the data type of variables 'pickup_datetime' and 'dropoff_datetime' to datetime\n",
        "df['pickup_datetime'] = pd.to_datetime(df['pickup_datetime'])\n",
        "df['dropoff_datetime'] = pd.to_datetime(df['dropoff_datetime'])"
      ],
      "metadata": {
        "id": "bamNgSRn5KcX"
      },
      "execution_count": null,
      "outputs": []
    },
    {
      "cell_type": "code",
      "execution_count": null,
      "metadata": {
        "id": "qxezIBW-OsfT"
      },
      "outputs": [],
      "source": [
        "df[\"year\"] = df[\"pickup_datetime\"].apply(lambda x: x.year)\n",
        "df[\"pickup_month\"] = df[\"pickup_datetime\"].apply(lambda x: x.month)\n",
        "df[\"dropoff_month\"] = df[\"dropoff_datetime\"].apply(lambda x: x.month)\n",
        "df[\"pickup_day\"] = df[\"pickup_datetime\"].apply(lambda x: x.weekday())\n",
        "df[\"dropoff_day\"] = df[\"dropoff_datetime\"].apply(lambda x: x.weekday())\n",
        "df[\"dropoff_time_hour\"] = df[\"dropoff_datetime\"].apply(lambda x: x.hour)\n",
        "df[\"dropoff_time_min\"] = df[\"dropoff_datetime\"].apply(lambda x: x.minute)\n",
        "df[\"pick_up_time_hour\"] = df[\"pickup_datetime\"].apply(lambda x: x.hour)\n",
        "df[\"pick_up_time_min\"] = df[\"pickup_datetime\"].apply(lambda x: x.minute)\n",
        "df.head(3)"
      ]
    },
    {
      "cell_type": "markdown",
      "source": [
        "## Number of pickups done on each day of the week"
      ],
      "metadata": {
        "id": "9i56ujKV-Ogy"
      }
    },
    {
      "cell_type": "code",
      "source": [
        "figure, ax = plt.subplots(nrows=2, ncols = 1, figsize = (10,10))\n",
        "sns.countplot(x = 'pickup_day', data = df, ax = ax[0])\n",
        "ax[0].set_title('no of pickups done on each day of the week')\n",
        "\n",
        "sns.countplot(x = 'dropoff_day', data = df, ax=ax[1])\n",
        "ax[1].set_title('no of dropoffs done on each day of the week')\n",
        "\n",
        "plt.tight_layout()"
      ],
      "metadata": {
        "id": "kvLVN_t-bpSF"
      },
      "execution_count": null,
      "outputs": []
    },
    {
      "cell_type": "markdown",
      "source": [
        "In the above plot day-'0' represents 'Monday' and is considerd as the beginning of the week. day-'6' represents Sunday,the end of the week.From the above plot we can see that the number of pickups and dropoffs are maximum for 'Friday' which is represented as day-'4'. "
      ],
      "metadata": {
        "id": "KudGZcEOCzjB"
      }
    },
    {
      "cell_type": "markdown",
      "source": [
        "## Now,let us analyse the trip duration for a  week"
      ],
      "metadata": {
        "id": "eVLx0s8-HCQa"
      }
    },
    {
      "cell_type": "markdown",
      "source": [
        "duration=df.groupby(\"pickup_day\")['trip_duration'].mean().sort_values(by='trip_duration' , ascending=False)\n",
        "duration"
      ],
      "metadata": {
        "id": "GQ-v_FLaHsf8"
      }
    },
    {
      "cell_type": "code",
      "source": [
        "duration=df.groupby(\"pickup_day\")['trip_duration'].mean().reset_index().sort_values(by='trip_duration' , ascending=False)\n",
        "duration"
      ],
      "metadata": {
        "id": "O0oXNLKoKMY_"
      },
      "execution_count": null,
      "outputs": []
    },
    {
      "cell_type": "code",
      "source": [
        "#Graphical Representation\n",
        "sns.pointplot(x='pickup_day' , y='trip_duration' , data=duration)\n",
        "plt.ylabel('Trip Duration')\n",
        "plt.xlabel('Weekday')\n",
        "plt.title('Trip Duration per WeekDay')\n",
        "plt.show()"
      ],
      "metadata": {
        "id": "UQsZaT5ZJSmV"
      },
      "execution_count": null,
      "outputs": []
    },
    {
      "cell_type": "markdown",
      "source": [
        "From the above plot we can infer that the duration of trip is maximum on Thursday represented as day-'3'."
      ],
      "metadata": {
        "id": "QqJOt95LLUo5"
      }
    },
    {
      "cell_type": "markdown",
      "source": [],
      "metadata": {
        "id": "GmUCfaWjP500"
      }
    },
    {
      "cell_type": "markdown",
      "source": [
        "Now let us see the customer who have highest trip duration "
      ],
      "metadata": {
        "id": "AOx_SBBhxgZE"
      }
    },
    {
      "cell_type": "code",
      "source": [
        "customer_distance=df.groupby(\"id\")[\"trip_duration\"].mean().reset_index().sort_values(by=\"trip_duration\" , ascending=False)\n",
        "customer_distance\n",
        "\n"
      ],
      "metadata": {
        "id": "RzWtvo7wCmtM"
      },
      "execution_count": null,
      "outputs": []
    },
    {
      "cell_type": "markdown",
      "source": [
        "Now we will find out the number of customers who travel within 30 mins,customers who travel between 30 mins to 1hr and customers who travel from 1hr to 2hr and customers who travel above 2hrs and more."
      ],
      "metadata": {
        "id": "KxtOh66oDGcH"
      }
    },
    {
      "cell_type": "code",
      "source": [
        "#Dividing the dataset on the basis of cutomer travelling time.\n",
        "#Determining the count of customers who travel within 30 mins\n",
        "df_travel_time_30=df[df[\"trip_duration\"]<=1800]\n",
        "df_travel_time_30.head()\n"
      ],
      "metadata": {
        "id": "pKq26__WDur7"
      },
      "execution_count": null,
      "outputs": []
    },
    {
      "cell_type": "code",
      "source": [
        "print(len(df_travel_time_30))"
      ],
      "metadata": {
        "id": "QwUdM2uVJZqd"
      },
      "execution_count": null,
      "outputs": []
    },
    {
      "cell_type": "markdown",
      "source": [
        "We can see from the above data that the count of customer travelling within 30 mins is really very large which is around 1345526"
      ],
      "metadata": {
        "id": "RrTurcuuJfXI"
      }
    },
    {
      "cell_type": "code",
      "source": [
        "#Determinig the count of customers who travel from 30 mins to 1hour.\n",
        "df_travel_time_60=df[(df[\"trip_duration\"]<=3600)& (df[\"trip_duration\"]>1800)]\n",
        "df_travel_time_60.head()"
      ],
      "metadata": {
        "id": "hBmapjSBJ1fZ"
      },
      "execution_count": null,
      "outputs": []
    },
    {
      "cell_type": "code",
      "source": [
        "print(len(df_travel_time_60))"
      ],
      "metadata": {
        "id": "4A80ImwtKThT"
      },
      "execution_count": null,
      "outputs": []
    },
    {
      "cell_type": "markdown",
      "source": [
        "From the above analysis we can see that the number of customers who travel between 30 mins to 1 hour is 100801.It is pretty less compared to number of customer who travel within 30 mins. "
      ],
      "metadata": {
        "id": "tsiVXpQdHXOZ"
      }
    },
    {
      "cell_type": "code",
      "source": [
        "#Determiming the count of customers who travel between 1 hours to 2 hours.\n",
        "df_travel_time_2hr=df[(df[\"trip_duration\"]>3600) & (df[\"trip_duration\"]<=(3600*2))]\n",
        "df_travel_time_2hr.head()"
      ],
      "metadata": {
        "id": "QmexhAbaLRrX"
      },
      "execution_count": null,
      "outputs": []
    },
    {
      "cell_type": "code",
      "source": [
        "print(len(df_travel_time_2hr))"
      ],
      "metadata": {
        "id": "P8nmP4miMOQL"
      },
      "execution_count": null,
      "outputs": []
    },
    {
      "cell_type": "markdown",
      "source": [
        "We can see that the number of customers who travel between 1 hour to 2hour is 10064."
      ],
      "metadata": {
        "id": "ydtuRIiEMcY0"
      }
    },
    {
      "cell_type": "code",
      "source": [
        "#Determiming the count of customers who travel for more than 2 hours.\n",
        "df_travel_time=df[df[\"trip_duration\"]>(3600*2)]\n",
        "df_travel_time.head()"
      ],
      "metadata": {
        "id": "TPzTNFK4Mah-"
      },
      "execution_count": null,
      "outputs": []
    },
    {
      "cell_type": "code",
      "source": [
        "print(len(df_travel_time))"
      ],
      "metadata": {
        "id": "2DzGijUoMaqt"
      },
      "execution_count": null,
      "outputs": []
    },
    {
      "cell_type": "markdown",
      "source": [
        "From the above analysis we can see that the number of customers having travel time of above 2 hours is 2253 which is pretty less compared to the number of customers travelling within 30 mins."
      ],
      "metadata": {
        "id": "JuXm9uiiOU1y"
      }
    },
    {
      "cell_type": "markdown",
      "source": [
        "According to a perception we will get a clear view of customers and their tavel \n",
        "duration by graphical representaions.However for analysing the customers trip duration it is necessary to deep dive into the data set to unearth many insights.So I have created a new column called \"Distance\" using the haversine formula.I have analysed the customers with highest  distance and highest trip_duration.\n",
        "I have broken down the \"pickup_datetime\" column,\"droppoff_datetime\" column into 8 columns which are:-\n",
        "\"pickup_month\" , \"pick_up_time_hr\" , \"pick_up_time_min\" , \"pick_up_day\",\n",
        "\"dropoff_month\" , \"dropoff_time_hr\" , \"dropoff_time_min\" , \"dropoff_day\"\n",
        "Following are the insights that were analysed:\n",
        "\n",
        "*   The maximum cabs were booked on \"Friday\" represented as day-4\n",
        "\n",
        "*   The highest duration of trip was on \"Thursday\" reprsented as day-3\n",
        "\n",
        "*   The highest duration was done by cutomers whose booking id was 'id0053347'.\n",
        "    It is found out that the trip duration for this trip is 979.52 hours.\n",
        "\n",
        "*   The highest distance was travelled by the customers whose booking id is\n",
        "    found to be 'id2306955'.The distance travelled is approximately  1240.91\n",
        "\n",
        "*   We can see from the  data analysis that the count of customer      \n",
        "    travelling within 30 mins is really very large which is around '1345526'   \n",
        "\n",
        "*   From the above analysis it is inferred that the number of customers who \n",
        "    travelbetween 30 mins to 1 hour is 100801.It is pretty less compared to   \n",
        "    number of customer who travel within 30 mins.\n",
        "\n",
        "*   We can see that the number of customers who travel between 1 hour to 2hour \n",
        "    is 10064.It has become less when compared to the number of customer \n",
        "    travelling within 30 mins and number of customer travelling between 30 mins\n",
        "    to 1 hour\n",
        "\n",
        "*   From the above analysis we can see that the number of customers having  \n",
        "    travel time of above 2 hours is 2253 which is very less compared to the  \n",
        "    number of customers travelling within 2hrs.\n",
        "\n",
        "\n",
        "\n",
        "\n",
        "\n",
        "\n",
        "\n",
        "\n",
        "\n",
        "\n",
        "\n",
        "\n",
        "\n"
      ],
      "metadata": {
        "id": "l7Sf9RblRrPD"
      }
    },
    {
      "cell_type": "code",
      "source": [],
      "metadata": {
        "id": "6K_lXn0KE6Zj"
      },
      "execution_count": null,
      "outputs": []
    },
    {
      "cell_type": "markdown",
      "source": [
        "## ***4. Data Vizualization, Storytelling & Experimenting with charts : Understand the relationships between variables***"
      ],
      "metadata": {
        "id": "GF8Ens_Soomf"
      }
    },
    {
      "cell_type": "markdown",
      "source": [
        "#### Chart - 1 - Horizontal Bar plot on Dependant Variable i.e., Trip Duration (Univariate)"
      ],
      "metadata": {
        "id": "0wOQAZs5pc--"
      }
    },
    {
      "cell_type": "code",
      "source": [
        "# Chart - 1 visualization code\n",
        "sns.set_style('white')\n",
        "plt.rcParams['font.size'] = 10\n",
        "plt.rcParams['figure.figsize'] = (14,5)"
      ],
      "metadata": {
        "id": "7v_ESjsspbW7"
      },
      "execution_count": null,
      "outputs": []
    },
    {
      "cell_type": "code",
      "source": [
        "df.trip_duration.groupby(pd.cut(df.trip_duration, np.arange(0,9000,600))).count().plot(kind='barh')\n",
        "plt.xlabel('Trip Counts')\n",
        "plt.ylabel('Trip Duration in seconds ')\n",
        "plt.show()"
      ],
      "metadata": {
        "id": "pgVpstuR6oNv"
      },
      "execution_count": null,
      "outputs": []
    },
    {
      "cell_type": "markdown",
      "source": [
        "##### 1. Why did you pick the specific chart?"
      ],
      "metadata": {
        "id": "K5QZ13OEpz2H"
      }
    },
    {
      "cell_type": "markdown",
      "source": [
        "A bar graph is used to compare data among categories.It also shows the  counts of values for the different levels of a categorical or nominal variable.To visualize the number of trip counts for various set of trip durations,I used bar chart."
      ],
      "metadata": {
        "id": "XESiWehPqBRc"
      }
    },
    {
      "cell_type": "markdown",
      "source": [
        "##### 2. What is/are the insight(s) found from the chart?"
      ],
      "metadata": {
        "id": "lQ7QKXXCp7Bj"
      }
    },
    {
      "cell_type": "markdown",
      "source": [
        "From the above plot I got to know that the amount of customers who travel between 0-600 seconds is very large.A lot of people prefer to do short trips in taxi cab wherein the duration is within 10mins.Very few people are booking cabs for longer trips.The number of trips is decresing with the increase in trip duration.\n"
      ],
      "metadata": {
        "id": "C_j1G7yiqdRP"
      }
    },
    {
      "cell_type": "markdown",
      "source": [
        "##### 3. Will the gained insights help creating a positive business impact? \n",
        "Are there any insights that lead to negative growth? Justify with specific reason."
      ],
      "metadata": {
        "id": "448CDAPjqfQr"
      }
    },
    {
      "cell_type": "markdown",
      "source": [
        "As a taxi cab owner It will be important to analyse the trips that are being booked.Wheather they are  longer trips where the trip duration is more tha an a hour or shorter trips where in the trip ends within 10 mins.This analysis can help to decide the fare of each trip and where to concentrate more number of cabs."
      ],
      "metadata": {
        "id": "3cspy4FjqxJW"
      }
    },
    {
      "cell_type": "markdown",
      "source": [
        "#### Chart - 2 - Countplot for Vendor_Id(Univariate)"
      ],
      "metadata": {
        "id": "xJivPyE8q_2k"
      }
    },
    {
      "cell_type": "code",
      "source": [
        "# Chart - 2 visualization code\n",
        "sns.set_style('white')\n",
        "plt.rcParams['font.size'] = 10\n",
        "plt.rcParams['figure.figsize'] = (5,5)\n",
        "sns.countplot(df[\"vendor_id\"], palette=\"husl\").set_title(\"Market Share Of Vendor Id\")"
      ],
      "metadata": {
        "id": "NTkxmIkWq_20"
      },
      "execution_count": null,
      "outputs": []
    },
    {
      "cell_type": "markdown",
      "source": [
        "##### 1. Why did you pick the specific chart?"
      ],
      "metadata": {
        "id": "azX1PEddq_20"
      }
    },
    {
      "cell_type": "markdown",
      "source": [
        "Countplot Shows the counts of observations in each categorical bin using bars.I used count plot to visualise the categorical feature 'vendor_id' to analyse which vendor has more market share"
      ],
      "metadata": {
        "id": "QTXVnJ-fq_20"
      }
    },
    {
      "cell_type": "markdown",
      "source": [
        "##### 2. What is/are the insight(s) found from the chart?"
      ],
      "metadata": {
        "id": "iyKleWeyq_20"
      }
    },
    {
      "cell_type": "markdown",
      "source": [
        "From the above plot I got to know that there are two vendors who are providing cab services which are 'Vendor_id1' and 'Vendor_id2'.From the countplot it is evident that  'Vendor_id2' has more number of customers than Vendor_id1'"
      ],
      "metadata": {
        "id": "DwesNe8zq_21"
      }
    },
    {
      "cell_type": "markdown",
      "source": [
        "\n",
        "\n",
        "```\n",
        "`[# This is formatted as code](https:// [link text](https://))`\n",
        "```\n",
        "\n",
        "##### 3. Will the gained insights help creating a positive business impact? \n",
        "Are there any insights that lead to negative growth? Justify with specific reason."
      ],
      "metadata": {
        "id": "8-UX51ofq_21"
      }
    },
    {
      "cell_type": "markdown",
      "source": [
        "Yes,as a cab owner it becomes important to analyse which all are vendors who are making a high profit and are more popular among the pepole.It will also be crucial to get to know the factors that are leading to more popularity among the people which inturn leads to a high market share  "
      ],
      "metadata": {
        "id": "nW7-bqD0q_21"
      }
    },
    {
      "cell_type": "markdown",
      "source": [
        "#### Chart - 3 - Pie chart on \"Store_Forward\" flag(Univariate)"
      ],
      "metadata": {
        "id": "Of3PJYNbrGff"
      }
    },
    {
      "cell_type": "code",
      "source": [
        "# Chart - 3 visualization code\n",
        "df[\"store_and_fwd_flag\"].value_counts().plot(kind=\"pie\" , labels=['Yes' , 'No'] , autopct=\"%1.1f%%\" , shadow=True , colors=['skyblue' , 'red'] , explode=[0,0])"
      ],
      "metadata": {
        "id": "tnFltgWlrGfg"
      },
      "execution_count": null,
      "outputs": []
    },
    {
      "cell_type": "markdown",
      "source": [
        "##### 1. Why did you pick the specific chart?"
      ],
      "metadata": {
        "id": "w8bcvZxarGfg"
      }
    },
    {
      "cell_type": "markdown",
      "source": [
        "A pie chart expresses a part-to-whole relationship in your data.Each slice represents one component and all slices added together equal the whole.It becomes easy to visualize data with pie charts and each slice can be analysed easily.I used pie chart to anlyse \"store_and_forward\"  flag.\n"
      ],
      "metadata": {
        "id": "9-GBsMEqrGfg"
      }
    },
    {
      "cell_type": "markdown",
      "source": [
        "##### 2. What is/are the insight(s) found from the chart?"
      ],
      "metadata": {
        "id": "HZ6txCBBrGfh"
      }
    },
    {
      "cell_type": "markdown",
      "source": [
        "From the above pie chart I came to know that around 99.4% of cabs record the trip record data before sending it to the vendor.Only around 0.6% of cabs have not recorded the cab data before sending it to the vendor.The trip might not hav been recorded due to either poor infrastructure provided by the vendors or due to signal loss that might have happend during  recording of the trip.However analysis shows that all most all cabs prefer to store the recoeded trip."
      ],
      "metadata": {
        "id": "sn1AvYFqDo7q"
      }
    },
    {
      "cell_type": "markdown",
      "source": [
        "##### 3. Will the gained insights help creating a positive business impact? \n",
        "Are there any insights that lead to negative growth? Justify with specific reason."
      ],
      "metadata": {
        "id": "jbkhcZqdrGfh"
      }
    },
    {
      "cell_type": "markdown",
      "source": [
        "The above analysis indicates how many of the cabs stotre the trip record before sending it to the vendor.Definetly its helps in creating a positive impact on business.For the taxi companies the trip record data is a very important and crucial data which has to be stored carefully.Storing these types of data help companies to understand the customer needs and can provide better customer satisfaction.Storing the trip record data in vehicle memomry before sending to the vendor means we are duplicating the data.If some mishap happens in the vendor's server end the data will not be destroyed.It can be easily retrived by the vehicle's memory.It sets as an example for good infrastructure and technology provided.Also It helps in providing good customer satisfaction."
      ],
      "metadata": {
        "id": "sZjMyjAHrGfh"
      }
    },
    {
      "cell_type": "markdown",
      "source": [
        "#### Chart - 4 - Taxi pick up time vs Passenger count(Bivariate)\n",
        "\n",
        "> \n",
        "\n"
      ],
      "metadata": {
        "id": "riLp7y9brHca"
      }
    },
    {
      "cell_type": "code",
      "source": [
        "passenger_number=df.groupby(\"pick_up_time_hour\")[\"passenger_count\"].count().reset_index().sort_values(by=\"passenger_count\" , ascending=False)\n",
        "passenger_number"
      ],
      "metadata": {
        "id": "tFsUD5VxVhbr"
      },
      "execution_count": null,
      "outputs": []
    },
    {
      "cell_type": "code",
      "source": [
        "sns.set_style('white')\n",
        "plt.rcParams['font.size'] = 10\n",
        "plt.rcParams['figure.figsize'] = (8,8)\n",
        "sns.lineplot(data=passenger_number, x=\"pick_up_time_hour\", y=\"passenger_count\")\n"
      ],
      "metadata": {
        "id": "VAwnqucEYHmP"
      },
      "execution_count": null,
      "outputs": []
    },
    {
      "cell_type": "markdown",
      "source": [
        "##### 1. Why did you pick the specific chart?"
      ],
      "metadata": {
        "id": "Uw0GT_uHrHcb"
      }
    },
    {
      "cell_type": "markdown",
      "source": [
        "A line chart is used to visualize the change in one variable with the change in time or any other continous variable.I used Line plot to track and visualize the change in the number of passengers onbaording cabs with time."
      ],
      "metadata": {
        "id": "R7c_a-IXrHcb"
      }
    },
    {
      "cell_type": "markdown",
      "source": [
        "##### 2. What is/are the insight(s) found from the chart?"
      ],
      "metadata": {
        "id": "qTEiGUKorHcc"
      }
    },
    {
      "cell_type": "markdown",
      "source": [
        "From the above chart I came to know that the number of people travelling is maximum at 6:00 PM in the evening.From early morning 1:00 AM till 5 AM the number of people travelling is very minimal.The number of people travelling increases linearly from 5 AM untill 10 AM.After 10 AM till 3 PM there is a very few increase in the number of passengers.It dips at 4.00PM however reaches its peak at 6.00 pm.After 6.00 PM in the evening the number of passengers travelling decreases significantly."
      ],
      "metadata": {
        "id": "hOCZkHS8iA9R"
      }
    },
    {
      "cell_type": "markdown",
      "source": [
        "##### 3. Will the gained insights help creating a positive business impact? \n",
        "Are there any insights that lead to negative growth? Justify with specific reason."
      ],
      "metadata": {
        "id": "1Qw8mtL3rHcd"
      }
    },
    {
      "cell_type": "markdown",
      "source": [
        "Yes,definetly the above analysis will have a positive impact on the business.\n",
        "As a company running taxi cabs , it becomes very important to analyse at what time most of the people travel so that they can pool in maximum number of cabs at that particular time.At peak hours which from analysis we got to know as 6 PM in the evening and morning 8-10AM the company can come out with some attractive offers and prices to attract maximum number of customers.Also they can come up with car-pooling option to obtain more number of bookings at a given point of time."
      ],
      "metadata": {
        "id": "t7dguLynrHcd"
      }
    },
    {
      "cell_type": "markdown",
      "source": [
        "#### Chart - 5 - Taxi Trip duration vs Distance(Bivariate)"
      ],
      "metadata": {
        "id": "xnMZvg2orIPt"
      }
    },
    {
      "cell_type": "code",
      "source": [
        "# Chart - 5 visualization code\n",
        "# Visualizing Percentage of customers taken international plan\n",
        "sns.set_style('white')\n",
        "plt.rcParams['font.size'] = 10\n",
        "plt.rcParams['figure.figsize'] = (8,8)\n",
        "plt.xlim(0,100000)\n",
        "plt.ylim(0,600)\n",
        "sns.scatterplot(x=\"trip_duration\", y=\"distance\", data=df)"
      ],
      "metadata": {
        "id": "BIKEKoqErIPu"
      },
      "execution_count": null,
      "outputs": []
    },
    {
      "cell_type": "markdown",
      "source": [
        "##### 1. Why did you pick the specific chart?"
      ],
      "metadata": {
        "id": "mwHQVoIQrIPu"
      }
    },
    {
      "cell_type": "markdown",
      "source": [
        "A scatter plot uses dots to represent values for two different numeric variables. The position of each dot on the horizontal and vertical axis indicates values for an individual data point. Scatter plots are used to observe relationships between variables in a data set.\n",
        "I used scatter plot to check how the 'distance' variable is related to the 'trip_duration' variable."
      ],
      "metadata": {
        "id": "_OS83_DorIPu"
      }
    },
    {
      "cell_type": "markdown",
      "source": [
        "##### 2. What is/are the insight(s) found from the chart?"
      ],
      "metadata": {
        "id": "Kwy5hImkrIPu"
      }
    },
    {
      "cell_type": "markdown",
      "source": [
        "From the above plot I came to know that 'distance' column and 'trip_duration' are not linearly realted.There were lot of trips whose distance was very minimal nearing to '0' but the time taken to cover them was ranging from 20,000 to 80,000 seconds.Also we can see that in few of the trips very large distance like 600kms were covered in very short period of time which is very unlikley.There are many trips with distance as '0' but have clocked time.This is very unlikely to happen and can be removed. "
      ],
      "metadata": {
        "id": "v29pTB30rIPu"
      }
    },
    {
      "cell_type": "markdown",
      "source": [
        "##### 3. Will the gained insights help creating a positive business impact? \n",
        "Are there any insights that lead to negative growth? Justify with specific reason."
      ],
      "metadata": {
        "id": "0sjxqkK0rIPv"
      }
    },
    {
      "cell_type": "markdown",
      "source": [
        "Yes, the analysis found will definetly have a positive impact on the business.\n",
        "As a cab owner it will be very important to analyse these data of the trip such as what is time taken to cover a particular  distance .It helps to analyse if there is any delay in reaching the destination and the reasons behind it.The reasons can be traffic,bad roads ,bad wheather or even bad driving."
      ],
      "metadata": {
        "id": "q3Py5eq2rIPv"
      }
    },
    {
      "cell_type": "markdown",
      "source": [
        "#### Chart - 6 -Month of booking vs number of booking.(Bivariate)"
      ],
      "metadata": {
        "id": "y7avNpR9HL5z"
      }
    },
    {
      "cell_type": "code",
      "source": [
        "# Chart - 6  visualization code\n",
        "# vizualizing code for the months having more number of bookings.\n",
        "sns.set_style('white')\n",
        "plt.rcParams['font.size'] = 10\n",
        "plt.rcParams['figure.figsize'] = (8,8)\n",
        "group1=df.groupby(\"pickup_month\")[\"id\"].count().reset_index().sort_values(by=\"id\" , ascending=False).rename(columns={'id':'Number of Bookings'})\n",
        "group1"
      ],
      "metadata": {
        "id": "XupyxJMCHL50"
      },
      "execution_count": null,
      "outputs": []
    },
    {
      "cell_type": "code",
      "source": [
        "sns.pointplot(x=\"pickup_month\" , y=\"Number of Bookings\" , data=group1 , color=\"indigo\").set(title=\"Number of bookings for each month\")"
      ],
      "metadata": {
        "id": "80ihK0WOIeG_"
      },
      "execution_count": null,
      "outputs": []
    },
    {
      "cell_type": "markdown",
      "source": [
        "##### 1. Why did you pick the specific chart?"
      ],
      "metadata": {
        "id": "Z5yPuW4iHL50"
      }
    },
    {
      "cell_type": "markdown",
      "source": [
        "Points plots are very usefull in focusing  and explaining on the different levels of comparison of two variables.I used point plot to analyse how the bookings are done during various months of a year. "
      ],
      "metadata": {
        "id": "e2Vj3xyvHL50"
      }
    },
    {
      "cell_type": "markdown",
      "source": [
        "##### 2. What is/are the insight(s) found from the chart?"
      ],
      "metadata": {
        "id": "3vIdo55JHL50"
      }
    },
    {
      "cell_type": "markdown",
      "source": [
        "From the above plot I could visualize that the maximum number of cab bookings were done in the months of 'March' , 'April' and May.\n",
        "Comparitively less bookings are done in the months of 'January' and 'June'.This can be due to weather conditions.\n"
      ],
      "metadata": {
        "id": "_TwmLyT0HL51"
      }
    },
    {
      "cell_type": "markdown",
      "source": [
        "##### 3. Will the gained insights help creating a positive business impact? \n",
        "Are there any insights that lead to negative growth? Justify with specific reason."
      ],
      "metadata": {
        "id": "IlhlbgNBHL51"
      }
    },
    {
      "cell_type": "markdown",
      "source": [
        "Yes,this analysis will definetly have a positive impact on the business.\n",
        "The taxi owners and vendors can use this data to come up with more number vehicles during these periods.Also during the months where cab bookings are less the companies can come up with attractive fares and special offers to improve their business."
      ],
      "metadata": {
        "id": "zecN6W5IHL51"
      }
    },
    {
      "cell_type": "markdown",
      "source": [
        "#### Chart - 7- Determining the relationship between 'Trip_duration' and other variables."
      ],
      "metadata": {
        "id": "oQ-pHCWMHO92"
      }
    },
    {
      "cell_type": "code",
      "source": [
        "# Chart - 7 visualization code\n",
        "col=df.describe().columns\n",
        "col"
      ],
      "metadata": {
        "id": "Eb_s6DRSHO92",
        "colab": {
          "base_uri": "https://localhost:8080/"
        },
        "outputId": "3552baa7-222b-4218-af81-0facf686a9a2"
      },
      "execution_count": null,
      "outputs": [
        {
          "output_type": "execute_result",
          "data": {
            "text/plain": [
              "Index(['vendor_id', 'passenger_count', 'pickup_longitude', 'pickup_latitude',\n",
              "       'dropoff_longitude', 'dropoff_latitude', 'trip_duration', 'distance',\n",
              "       'year', 'pickup_month', 'dropoff_month', 'pickup_day', 'dropoff_day',\n",
              "       'dropoff_time_hour', 'dropoff_time_min', 'pick_up_time_hour',\n",
              "       'pick_up_time_min'],\n",
              "      dtype='object')"
            ]
          },
          "metadata": {},
          "execution_count": 47
        }
      ]
    },
    {
      "cell_type": "code",
      "source": [
        "for col in col:\n",
        "  fig,ax=plt.subplots(figsize=(10,6))\n",
        "  sns.regplot(x=df[col],y=df['trip_duration'],scatter_kws={\"color\": 'orange'}, line_kws={\"color\": \"black\"})\n",
        "\n",
        "\n"
      ],
      "metadata": {
        "colab": {
          "base_uri": "https://localhost:8080/",
          "height": 1000
        },
        "id": "W3b-E6c4crFI",
        "outputId": "25c06ae7-36cd-4cee-b3e6-e47932670ac1"
      },
      "execution_count": null,
      "outputs": [
        {
          "output_type": "display_data",
          "data": {
            "text/plain": [
              "<Figure size 720x432 with 1 Axes>"
            ],
            "image/png": "[encoded data removed]"
          },
          "metadata": {}
        },
        {
          "output_type": "display_data",
          "data": {
            "text/plain": [
              "<Figure size 720x432 with 1 Axes>"
            ],
            "image/png": "[encoded data removed]"
          },
          "metadata": {}
        },
        {
          "output_type": "display_data",
          "data": {
            "text/plain": [
              "<Figure size 720x432 with 1 Axes>"
            ],
            "image/png": "[encoded data removed]"
          },
          "metadata": {}
        },
        {
          "output_type": "display_data",
          "data": {
            "text/plain": [
              "<Figure size 720x432 with 1 Axes>"
            ],
            "image/png": "[encoded data removed]"
          },
          "metadata": {}
        },
        {
          "output_type": "display_data",
          "data": {
            "text/plain": [
              "<Figure size 720x432 with 1 Axes>"
            ],
            "image/png": "[encoded data removed]"
          },
          "metadata": {}
        },
        {
          "output_type": "display_data",
          "data": {
            "text/plain": [
              "<Figure size 720x432 with 1 Axes>"
            ],
            "image/png": "[encoded data removed]"
          },
          "metadata": {}
        },
        {
          "output_type": "display_data",
          "data": {
            "text/plain": [
              "<Figure size 720x432 with 1 Axes>"
            ],
            "image/png": "[encoded data removed]"
          },
          "metadata": {}
        },
        {
          "output_type": "display_data",
          "data": {
            "text/plain": [
              "<Figure size 720x432 with 1 Axes>"
            ],
            "image/png": "[encoded data removed]"
          },
          "metadata": {}
        },
        {
          "output_type": "display_data",
          "data": {
            "text/plain": [
              "<Figure size 720x432 with 1 Axes>"
            ],
            "image/png": "[encoded data removed]"
          },
          "metadata": {}
        },
        {
          "output_type": "display_data",
          "data": {
            "text/plain": [
              "<Figure size 720x432 with 1 Axes>"
            ],
            "image/png": "[encoded data removed]"
          },
          "metadata": {}
        },
        {
          "output_type": "display_data",
          "data": {
            "text/plain": [
              "<Figure size 720x432 with 1 Axes>"
            ],
            "image/png": "[encoded data removed]"
          },
          "metadata": {}
        },
        {
          "output_type": "display_data",
          "data": {
            "text/plain": [
              "<Figure size 720x432 with 1 Axes>"
            ],
            "image/png": "[encoded data removed]"
          },
          "metadata": {}
        },
        {
          "output_type": "display_data",
          "data": {
            "text/plain": [
              "<Figure size 720x432 with 1 Axes>"
            ],
            "image/png": "[encoded data removed]"
          },
          "metadata": {}
        },
        {
          "output_type": "display_data",
          "data": {
            "text/plain": [
              "<Figure size 720x432 with 1 Axes>"
            ],
            "image/png": "[encoded data removed]"
          },
          "metadata": {}
        },
        {
          "output_type": "display_data",
          "data": {
            "text/plain": [
              "<Figure size 720x432 with 1 Axes>"
            ],
            "image/png": "[encoded data removed]"
          },
          "metadata": {}
        },
        {
          "output_type": "display_data",
          "data": {
            "text/plain": [
              "<Figure size 720x432 with 1 Axes>"
            ],
            "image/png": "[encoded data removed]"
          },
          "metadata": {}
        },
        {
          "output_type": "display_data",
          "data": {
            "text/plain": [
              "<Figure size 720x432 with 1 Axes>"
            ],
            "image/png": "[encoded data removed]"
          },
          "metadata": {}
        }
      ]
    },
    {
      "cell_type": "markdown",
      "source": [
        "##### 1. Why did you pick the specific chart?"
      ],
      "metadata": {
        "id": "DEMFeE18HO92"
      }
    },
    {
      "cell_type": "markdown",
      "source": [
        "Regression plots  creates a regression line between two parameters and helps to visualize their linear relationships.I have used regression plots to visualize the realationship between the dependent variable 'trip_duration' and other independent variables."
      ],
      "metadata": {
        "id": "zyFFR4BgHO92"
      }
    },
    {
      "cell_type": "markdown",
      "source": [
        "##### 2. What is/are the insight(s) found from the chart?"
      ],
      "metadata": {
        "id": "MR3eS7xTHO93"
      }
    },
    {
      "cell_type": "markdown",
      "source": [
        "From the above plots we can see the relatioship between the dependent variable 'trip_duration' and other independent variables.From the plots we can figure out that there is no much linear relation between the dependent variable and other independent variables.We can only see a slight linear relation between 'trip_duration' and 'distance'.For rest of all the independent variables there is no linear relation with target variable."
      ],
      "metadata": {
        "id": "0neckRpZHO93"
      }
    },
    {
      "cell_type": "markdown",
      "source": [
        "##### 3. Will the gained insights help creating a positive business impact? \n",
        "Are there any insights that lead to negative growth? Justify with specific reason."
      ],
      "metadata": {
        "id": "JmI1Y4YbHO93"
      }
    },
    {
      "cell_type": "markdown",
      "source": [
        "Regression plot is to only visualize the relation between the two variables in the dataset.It doesnt have any to the business.\n"
      ],
      "metadata": {
        "id": "OgeOEDgIHO93"
      }
    }
  ]
}